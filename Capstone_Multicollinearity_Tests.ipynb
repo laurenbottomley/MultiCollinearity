{
 "cells": [
  {
   "cell_type": "code",
   "execution_count": null,
   "metadata": {},
   "outputs": [
    {
     "name": "stdout",
     "output_type": "stream",
     "text": [
      "\n",
      "VIF Results:\n",
      "             Feature        VIF\n",
      "0         sofa_first  10.632154\n",
      "1                age  13.008582\n",
      "2         stroke_flg   1.895595\n",
      "3          aline_flg   3.551983\n",
      "4        icu_los_day   6.140994\n",
      "5   hospital_los_day   3.022562\n",
      "6         gender_num   2.352393\n",
      "7        service_num   3.564287\n",
      "8          renal_flg   1.356933\n",
      "9          liver_flg   1.277833\n",
      "10          copd_flg   1.303004\n",
      "11           cad_flg   1.319335\n",
      "12           mal_flg   1.328079\n",
      "13          resp_flg   2.242273\n",
      "14         abg_count   4.362313\n",
      "15         wbc_first   4.595808\n",
      "16    platelet_first   6.944487\n",
      "17         bun_first   5.437033\n",
      "18  creatinine_first   4.015746\n",
      "19         po2_first   3.625915\n",
      "20        pco2_first   8.333608\n",
      "21          iv_day_1   2.067725\n"
     ]
    }
   ],
   "source": [
    "\n",
    "import pandas as pd\n",
    "from statsmodels.stats.outliers_influence import variance_inflation_factor\n",
    "from sklearn.impute import SimpleImputer\n",
    "\n",
    "# Load your dataset\n",
    "df = pd.read_csv('day_28_flg_random_oversampled_data.csv')\n",
    "\n",
    "X = df[['sofa_first', 'age', 'stroke_flg', 'aline_flg', 'icu_los_day', 'hospital_los_day', 'gender_num',\n",
    "        'service_num', 'renal_flg', 'liver_flg', 'copd_flg', 'cad_flg', 'mal_flg', 'resp_flg', 'abg_count',\n",
    "        'wbc_first', 'platelet_first', 'bun_first', 'creatinine_first', 'po2_first', 'pco2_first', 'iv_day_1']]\n",
    "\n",
    "# Impute missing values if necessary (using median by default)\n",
    "imputer = SimpleImputer(strategy='median')\n",
    "X_imputed = pd.DataFrame(imputer.fit_transform(X), columns=X.columns)\n",
    "\n",
    "# Calculate VIF for each feature\n",
    "vif_data = pd.DataFrame()\n",
    "vif_data['Feature'] = X_imputed.columns\n",
    "vif_data['VIF'] = [variance_inflation_factor(X_imputed.values, i) for i in range(X_imputed.shape[1])]\n",
    "\n",
    "# Identify columns with 'inf' VIF (indicating perfect multicollinearity)\n",
    "columns_to_drop = vif_data[vif_data['VIF'] == float('inf')]['Feature'].tolist()\n",
    "\n",
    "# Drop columns with high multicollinearity (inf VIFs)\n",
    "X_reduced = X_imputed.drop(columns=columns_to_drop)\n",
    "\n",
    "# Calculate the VIF for the remaining features after dropping collinear variables\n",
    "vif_data_reduced = pd.DataFrame()\n",
    "vif_data_reduced['Feature'] = X_reduced.columns\n",
    "vif_data_reduced['VIF'] = [variance_inflation_factor(X_reduced.values, i) for i in range(X_reduced.shape[1])]\n",
    "\n",
    "# Display the new VIF results after removing collinear variables\n",
    "print(\"\\nVIF Results:\")\n",
    "print(vif_data_reduced)"
   ]
  },
  {
   "cell_type": "code",
   "execution_count": 4,
   "metadata": {},
   "outputs": [
    {
     "name": "stdout",
     "output_type": "stream",
     "text": [
      "      Feature       VIF\n",
      "0  sofa_first  5.059464\n",
      "1         age  5.059464\n"
     ]
    }
   ],
   "source": [
    "# Select only the SOFA and age columns\n",
    "Y = df[['sofa_first', 'age']]  # Replace with the exact column names in your dataset\n",
    "\n",
    "# Calculate VIF for each variable\n",
    "vif_data = pd.DataFrame()\n",
    "vif_data['Feature'] = Y.columns\n",
    "vif_data['VIF'] = [variance_inflation_factor(Y.values, i) for i in range(Y.shape[1])]\n",
    "\n",
    "# Display the VIF results\n",
    "print(vif_data)"
   ]
  },
  {
   "cell_type": "code",
   "execution_count": 7,
   "metadata": {},
   "outputs": [
    {
     "name": "stdout",
     "output_type": "stream",
     "text": [
      "\n",
      "VIF Results After Dropping 'Age':\n",
      "             Feature       VIF\n",
      "0         sofa_first  9.829621\n",
      "1         stroke_flg  1.680399\n",
      "2          aline_flg  3.543908\n",
      "3        icu_los_day  6.072475\n",
      "4   hospital_los_day  3.019758\n",
      "5         gender_num  2.313016\n",
      "6        service_num  3.427984\n",
      "7          renal_flg  1.356477\n",
      "8          liver_flg  1.273617\n",
      "9           copd_flg  1.281705\n",
      "10           cad_flg  1.274513\n",
      "11           mal_flg  1.315228\n",
      "12          resp_flg  2.215412\n",
      "13         abg_count  4.289382\n",
      "14         wbc_first  4.594502\n",
      "15    platelet_first  6.710068\n",
      "16         bun_first  4.814494\n",
      "17  creatinine_first  3.951118\n",
      "18         po2_first  3.518991\n",
      "19        pco2_first  7.591286\n",
      "20          iv_day_1  2.059523\n"
     ]
    }
   ],
   "source": [
    "# Drop the 'age' column from the dataset\n",
    "X_reduced = X_imputed.drop(columns=['age'])\n",
    "\n",
    "# Calculate the VIF for the remaining features after dropping 'age'\n",
    "vif_data_reduced = pd.DataFrame()\n",
    "vif_data_reduced['Feature'] = X_reduced.columns\n",
    "vif_data_reduced['VIF'] = [variance_inflation_factor(X_reduced.values, i) for i in range(X_reduced.shape[1])]\n",
    "\n",
    "# Display the new VIF results after removing 'age'\n",
    "print(\"\\nVIF Results After Dropping 'Age':\")\n",
    "print(vif_data_reduced)\n"
   ]
  }
 ],
 "metadata": {
  "kernelspec": {
   "display_name": "Python 3",
   "language": "python",
   "name": "python3"
  },
  "language_info": {
   "codemirror_mode": {
    "name": "ipython",
    "version": 3
   },
   "file_extension": ".py",
   "mimetype": "text/x-python",
   "name": "python",
   "nbconvert_exporter": "python",
   "pygments_lexer": "ipython3",
   "version": "3.10.7"
  }
 },
 "nbformat": 4,
 "nbformat_minor": 2
}
